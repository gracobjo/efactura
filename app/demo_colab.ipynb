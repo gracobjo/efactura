{
 "cells": [
  {
   "cell_type": "code",
   "execution_count": 2,
   "id": "e4fde9c0",
   "metadata": {},
   "outputs": [
    {
     "name": "stdout",
     "output_type": "stream",
     "text": [
      "[WinError 2] El sistema no puede encontrar el archivo especificado: 'eFactura'\n",
      "c:\\Users\\gracobjo\\Documents\\proyectosMios\\eFactura\\app\n"
     ]
    },
    {
     "name": "stderr",
     "output_type": "stream",
     "text": [
      "Cloning into 'eFactura'...\n",
      "remote: Repository not found.\n",
      "fatal: repository 'https://github.com/tu_usuario/eFactura.git/' not found\n",
      "ERROR: Could not open requirements file: [Errno 2] No such file or directory: 'requirements.txt'\n"
     ]
    },
    {
     "ename": "OSError",
     "evalue": "Background processes not supported.",
     "output_type": "error",
     "traceback": [
      "\u001b[31m---------------------------------------------------------------------------\u001b[39m",
      "\u001b[31mOSError\u001b[39m                                   Traceback (most recent call last)",
      "\u001b[36mCell\u001b[39m\u001b[36m \u001b[39m\u001b[32mIn[2]\u001b[39m\u001b[32m, line 11\u001b[39m\n\u001b[32m      9\u001b[39m \u001b[38;5;28;01mimport\u001b[39;00m\u001b[38;5;250m \u001b[39m\u001b[34;01mos\u001b[39;00m\n\u001b[32m     10\u001b[39m os.makedirs(\u001b[33m'\u001b[39m\u001b[33minstance\u001b[39m\u001b[33m'\u001b[39m, exist_ok=\u001b[38;5;28;01mTrue\u001b[39;00m)\n\u001b[32m---> \u001b[39m\u001b[32m11\u001b[39m \u001b[43mget_ipython\u001b[49m\u001b[43m(\u001b[49m\u001b[43m)\u001b[49m\u001b[43m.\u001b[49m\u001b[43msystem\u001b[49m\u001b[43m(\u001b[49m\u001b[33;43m'\u001b[39;49m\u001b[33;43mpython run.py &\u001b[39;49m\u001b[33;43m'\u001b[39;49m\u001b[43m)\u001b[49m\n\u001b[32m     12\u001b[39m get_ipython().system(\u001b[33m'\u001b[39m\u001b[33mpython poblar_db.py\u001b[39m\u001b[33m'\u001b[39m)\n\u001b[32m     14\u001b[39m \u001b[38;5;66;03m# 4. Analizar facturas\u001b[39;00m\n",
      "\u001b[36mFile \u001b[39m\u001b[32mc:\\Users\\gracobjo\\Documents\\proyectosMios\\eFactura\\.venv\\Lib\\site-packages\\ipykernel\\zmqshell.py:669\u001b[39m, in \u001b[36mZMQInteractiveShell.system_piped\u001b[39m\u001b[34m(self, cmd)\u001b[39m\n\u001b[32m    662\u001b[39m \u001b[38;5;28;01mif\u001b[39;00m cmd.rstrip().endswith(\u001b[33m\"\u001b[39m\u001b[33m&\u001b[39m\u001b[33m\"\u001b[39m):\n\u001b[32m    663\u001b[39m     \u001b[38;5;66;03m# this is *far* from a rigorous test\u001b[39;00m\n\u001b[32m    664\u001b[39m     \u001b[38;5;66;03m# We do not support backgrounding processes because we either use\u001b[39;00m\n\u001b[32m    665\u001b[39m     \u001b[38;5;66;03m# pexpect or pipes to read from.  Users can always just call\u001b[39;00m\n\u001b[32m    666\u001b[39m     \u001b[38;5;66;03m# os.system() or use ip.system=ip.system_raw\u001b[39;00m\n\u001b[32m    667\u001b[39m     \u001b[38;5;66;03m# if they really want a background process.\u001b[39;00m\n\u001b[32m    668\u001b[39m     msg = \u001b[33m\"\u001b[39m\u001b[33mBackground processes not supported.\u001b[39m\u001b[33m\"\u001b[39m\n\u001b[32m--> \u001b[39m\u001b[32m669\u001b[39m     \u001b[38;5;28;01mraise\u001b[39;00m \u001b[38;5;167;01mOSError\u001b[39;00m(msg)\n\u001b[32m    671\u001b[39m \u001b[38;5;66;03m# we explicitly do NOT return the subprocess status code, because\u001b[39;00m\n\u001b[32m    672\u001b[39m \u001b[38;5;66;03m# a non-None value would trigger :func:`sys.displayhook` calls.\u001b[39;00m\n\u001b[32m    673\u001b[39m \u001b[38;5;66;03m# Instead, we store the exit_code in user_ns.\u001b[39;00m\n\u001b[32m    674\u001b[39m \u001b[38;5;66;03m# Also, protect system call from UNC paths on Windows here too\u001b[39;00m\n\u001b[32m    675\u001b[39m \u001b[38;5;66;03m# as is done in InteractiveShell.system_raw\u001b[39;00m\n\u001b[32m    676\u001b[39m \u001b[38;5;28;01mif\u001b[39;00m sys.platform == \u001b[33m\"\u001b[39m\u001b[33mwin32\u001b[39m\u001b[33m\"\u001b[39m:\n",
      "\u001b[31mOSError\u001b[39m: Background processes not supported."
     ]
    }
   ],
   "source": [
    "# 1. Clonar el repositorio\n",
    "!git clone https://github.com/tu_usuario/eFactura.git\n",
    "%cd eFactura\n",
    "\n",
    "# 2. Instalar dependencias\n",
    "!pip install -r requirements.txt\n",
    "\n",
    "# 3. Inicializar la base de datos y poblarla\n",
    "import os\n",
    "os.makedirs('instance', exist_ok=True)\n",
    "!python run.py &\n",
    "!python poblar_db.py\n",
    "\n",
    "# 4. Analizar facturas\n",
    "!python analisis_facturas.py\n",
    "\n",
    "# 5. Generar un PDF de ejemplo (opcional)\n",
    "from app import create_app\n",
    "from app.models.factura import Cliente, Item, Factura\n",
    "from app.services import pdf_generator\n",
    "\n",
    "app = create_app()\n",
    "app.app_context().push()\n",
    "\n",
    "cliente = Cliente(\"Demo Colab\", \"Calle Colab 1\", \"COLAB123\")\n",
    "items = [Item(\"Producto Colab\", 1, 99.99)]\n",
    "factura = Factura(cliente, items)\n",
    "pdf_path = pdf_generator.generar_pdf(factura, \"colab_demo\")\n",
    "print(\"PDF generado en:\", pdf_path)"
   ]
  }
 ],
 "metadata": {
  "kernelspec": {
   "display_name": ".venv",
   "language": "python",
   "name": "python3"
  },
  "language_info": {
   "codemirror_mode": {
    "name": "ipython",
    "version": 3
   },
   "file_extension": ".py",
   "mimetype": "text/x-python",
   "name": "python",
   "nbconvert_exporter": "python",
   "pygments_lexer": "ipython3",
   "version": "3.13.5"
  }
 },
 "nbformat": 4,
 "nbformat_minor": 5
}
